{
 "cells": [
  {
   "cell_type": "code",
   "execution_count": 1,
   "metadata": {},
   "outputs": [],
   "source": [
    "import pandas as pd\n",
    "import numpy as np\n",
    "import csv"
   ]
  },
  {
   "cell_type": "code",
   "execution_count": 3,
   "metadata": {},
   "outputs": [
    {
     "data": {
      "text/plain": [
       "'C:\\\\Users\\\\Sharan\\\\Desktop\\\\Root\\\\internship AI thomas'"
      ]
     },
     "execution_count": 3,
     "metadata": {},
     "output_type": "execute_result"
    }
   ],
   "source": [
    "pwd()"
   ]
  },
  {
   "cell_type": "code",
   "execution_count": 8,
   "metadata": {},
   "outputs": [],
   "source": [
    "df = pd.read_csv(\"sequence_df_processed_complete.csv\")"
   ]
  },
  {
   "cell_type": "code",
   "execution_count": null,
   "metadata": {
    "scrolled": true
   },
   "outputs": [],
   "source": [
    "df.head()"
   ]
  },
  {
   "cell_type": "code",
   "execution_count": 10,
   "metadata": {},
   "outputs": [],
   "source": [
    "# removing unnecessary columns: the first one, Sequence ID, recomb points, meme matched ID\n",
    "df = df.drop(columns=['Unnamed: 0', 'sequence ID','length','GC content','GC% for breakpoint windows','recomb point RNAenergy','MEME matched ID','MEME matched sequence','recomb points','random points','random seq windows'])"
   ]
  },
  {
   "cell_type": "code",
   "execution_count": 11,
   "metadata": {},
   "outputs": [
    {
     "data": {
      "text/html": [
       "<div>\n",
       "<style scoped>\n",
       "    .dataframe tbody tr th:only-of-type {\n",
       "        vertical-align: middle;\n",
       "    }\n",
       "\n",
       "    .dataframe tbody tr th {\n",
       "        vertical-align: top;\n",
       "    }\n",
       "\n",
       "    .dataframe thead th {\n",
       "        text-align: right;\n",
       "    }\n",
       "</style>\n",
       "<table border=\"1\" class=\"dataframe\">\n",
       "  <thead>\n",
       "    <tr style=\"text-align: right;\">\n",
       "      <th></th>\n",
       "      <th>sequences</th>\n",
       "      <th>recomb point windows</th>\n",
       "    </tr>\n",
       "  </thead>\n",
       "  <tbody>\n",
       "    <tr>\n",
       "      <th>0</th>\n",
       "      <td>atggggggaggacatacaaagcatgttcaagttgttgacataaagg...</td>\n",
       "      <td>['aaagaaggagacaaggcaacaagtggaataggtggatgtaatcc...</td>\n",
       "    </tr>\n",
       "    <tr>\n",
       "      <th>1</th>\n",
       "      <td>atggggcccaaggcgcctgtgactgactatagtaatgtcaacaatg...</td>\n",
       "      <td>['cccatggcctcccccttgtgaaacccgcaaccccaaccggcaca...</td>\n",
       "    </tr>\n",
       "    <tr>\n",
       "      <th>2</th>\n",
       "      <td>tgttttatacattgcgttataaaaatggggtcacaaccatcaaaat...</td>\n",
       "      <td>['gatggtgaagatgatgacaacgtcgacgatgaaggcggcggcag...</td>\n",
       "    </tr>\n",
       "    <tr>\n",
       "      <th>3</th>\n",
       "      <td>atggaagccacaagtggtggtcgtggtgggggtggtagtgggggtg...</td>\n",
       "      <td>['aaaaaatcgcagaagatttttctaaaaacccccagtttttacga...</td>\n",
       "    </tr>\n",
       "    <tr>\n",
       "      <th>4</th>\n",
       "      <td>atggtacggctggtggataccacaataagtgattatagtattgcca...</td>\n",
       "      <td>['gctcaatggtagcctcgaaagtgacagtgacgatcccgaaaaac...</td>\n",
       "    </tr>\n",
       "  </tbody>\n",
       "</table>\n",
       "</div>"
      ],
      "text/plain": [
       "                                           sequences  \\\n",
       "0  atggggggaggacatacaaagcatgttcaagttgttgacataaagg...   \n",
       "1  atggggcccaaggcgcctgtgactgactatagtaatgtcaacaatg...   \n",
       "2  tgttttatacattgcgttataaaaatggggtcacaaccatcaaaat...   \n",
       "3  atggaagccacaagtggtggtcgtggtgggggtggtagtgggggtg...   \n",
       "4  atggtacggctggtggataccacaataagtgattatagtattgcca...   \n",
       "\n",
       "                                recomb point windows  \n",
       "0  ['aaagaaggagacaaggcaacaagtggaataggtggatgtaatcc...  \n",
       "1  ['cccatggcctcccccttgtgaaacccgcaaccccaaccggcaca...  \n",
       "2  ['gatggtgaagatgatgacaacgtcgacgatgaaggcggcggcag...  \n",
       "3  ['aaaaaatcgcagaagatttttctaaaaacccccagtttttacga...  \n",
       "4  ['gctcaatggtagcctcgaaagtgacagtgacgatcccgaaaaac...  "
      ]
     },
     "execution_count": 11,
     "metadata": {},
     "output_type": "execute_result"
    }
   ],
   "source": [
    "df.head()"
   ]
  },
  {
   "cell_type": "code",
   "execution_count": null,
   "metadata": {},
   "outputs": [],
   "source": [
    "n = 50\n",
    "for index, row in df.iterrows():\n",
    "  sliced_seq = []\n",
    "  for bp in range(0, len(row[0])-n):\n",
    "      sliced_seq.append(row[0][bp : bp + n])"
   ]
  },
  {
   "cell_type": "code",
   "execution_count": null,
   "metadata": {},
   "outputs": [],
   "source": []
  }
 ],
 "metadata": {
  "kernelspec": {
   "display_name": "Python 3",
   "language": "python",
   "name": "python3"
  },
  "language_info": {
   "codemirror_mode": {
    "name": "ipython",
    "version": 3
   },
   "file_extension": ".py",
   "mimetype": "text/x-python",
   "name": "python",
   "nbconvert_exporter": "python",
   "pygments_lexer": "ipython3",
   "version": "3.7.6"
  }
 },
 "nbformat": 4,
 "nbformat_minor": 4
}
